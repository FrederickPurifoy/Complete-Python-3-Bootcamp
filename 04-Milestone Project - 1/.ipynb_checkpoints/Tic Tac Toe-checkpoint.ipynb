{
 "cells": [
  {
   "cell_type": "code",
   "execution_count": 31,
   "metadata": {},
   "outputs": [],
   "source": [
    "board = [\"1\",\"2\",\"3\",\"4\",\"5\",\"6\",\"7\",\"8\",\"9\"]"
   ]
  },
  {
   "cell_type": "code",
   "execution_count": 32,
   "metadata": {},
   "outputs": [],
   "source": [
    "def posInput():\n",
    "    inputCheck = True\n",
    "    while inputCheck:\n",
    "        pos = input(\"Please enter a position (1-9): \")\n",
    "        if pos.isdigit():\n",
    "            if int(pos) in range(1,10):\n",
    "                inputCheck = False\n",
    "            else:\n",
    "                print(\"The entered position is out of bounds of (1-9)\")\n",
    "        else:\n",
    "            print(\"Please enter a digit\")\n",
    "    \n",
    "    return int(pos) - 1\n",
    "        "
   ]
  },
  {
   "cell_type": "code",
   "execution_count": 33,
   "metadata": {},
   "outputs": [],
   "source": [
    "def display(board):\n",
    "    screen = \"\"\n",
    "    for i,item in enumerate(board):\n",
    "        if i in [2,5,8]:\n",
    "            screen += item + \"\\n\"\n",
    "        else:\n",
    "            screen += item + \"|\"\n",
    "    print(screen)"
   ]
  },
  {
   "cell_type": "code",
   "execution_count": 36,
   "metadata": {},
   "outputs": [],
   "source": [
    "def game():\n",
    "    running = True\n",
    "    position = 0\n",
    "    display(board)\n",
    "    while running:\n",
    "        print(\"It is player X's turn\")\n",
    "        position = posInput()\n",
    "        board[position] = \"x\"\n",
    "        display(board)\n",
    "        if checkWin(board):\n",
    "            break\n",
    "\n",
    "        print(\"It is player O's turn\")\n",
    "        position = posInput()\n",
    "        board[position] = \"O\"\n",
    "        display(board)\n",
    "        if checkWin(board):\n",
    "            break"
   ]
  },
  {
   "cell_type": "code",
   "execution_count": 37,
   "metadata": {},
   "outputs": [],
   "source": [
    "def checkWin(b):\n",
    "    if b[0] == b[1] == b[2] or b[3] == b[4] == b[5] or b[6] == b[7] == b[8]:\n",
    "        print(\"Game Over!\")\n",
    "        return True\n",
    "    elif b[0] == b[3] == b[6] or b[1] == b[4] == b[7] or b[2] == b[5] == b[8]:\n",
    "        print(\"Game Over!\")\n",
    "        return True\n",
    "    elif b[0] == b[4] == b[8] or b[6] == b[4] == b[2]:\n",
    "        print(\"Game Over!\")\n",
    "        return True\n",
    "    else:\n",
    "        return False"
   ]
  },
  {
   "cell_type": "code",
   "execution_count": 38,
   "metadata": {},
   "outputs": [
    {
     "name": "stdout",
     "output_type": "stream",
     "text": [
      "1|2|3\n",
      "4|5|6\n",
      "7|8|9\n",
      "\n",
      "It is player X's turn\n",
      "Please enter a position (1-9): 4\n",
      "1|2|3\n",
      "x|5|6\n",
      "7|8|9\n",
      "\n",
      "It is player O's turn\n",
      "Please enter a position (1-9): 9\n",
      "1|2|3\n",
      "x|5|6\n",
      "7|8|O\n",
      "\n",
      "It is player X's turn\n",
      "Please enter a position (1-9): 1\n",
      "x|2|3\n",
      "x|5|6\n",
      "7|8|O\n",
      "\n",
      "It is player O's turn\n",
      "Please enter a position (1-9): 6\n",
      "x|2|3\n",
      "x|5|O\n",
      "7|8|O\n",
      "\n",
      "It is player X's turn\n",
      "Please enter a position (1-9): 7\n",
      "x|2|3\n",
      "x|5|O\n",
      "x|8|O\n",
      "\n",
      "Game Over!\n"
     ]
    }
   ],
   "source": [
    "game()"
   ]
  },
  {
   "cell_type": "code",
   "execution_count": null,
   "metadata": {},
   "outputs": [],
   "source": []
  }
 ],
 "metadata": {
  "kernelspec": {
   "display_name": "Python 3",
   "language": "python",
   "name": "python3"
  },
  "language_info": {
   "codemirror_mode": {
    "name": "ipython",
    "version": 3
   },
   "file_extension": ".py",
   "mimetype": "text/x-python",
   "name": "python",
   "nbconvert_exporter": "python",
   "pygments_lexer": "ipython3",
   "version": "3.7.7"
  }
 },
 "nbformat": 4,
 "nbformat_minor": 4
}
